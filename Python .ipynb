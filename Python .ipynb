{
 "cells": [
  {
   "cell_type": "code",
   "execution_count": 1,
   "id": "169b7220",
   "metadata": {},
   "outputs": [],
   "source": [
    "import os"
   ]
  },
  {
   "cell_type": "code",
   "execution_count": 16,
   "id": "d257d752",
   "metadata": {
    "scrolled": true
   },
   "outputs": [],
   "source": [
    "os.chdir('C:/Users/admin/OneDrive/Documents/Desktop/heart_failure dataset.csv')"
   ]
  },
  {
   "cell_type": "code",
   "execution_count": 17,
   "id": "0aaf1c5f",
   "metadata": {
    "scrolled": false
   },
   "outputs": [],
   "source": [
    "import pandas as pd"
   ]
  },
  {
   "cell_type": "code",
   "execution_count": 19,
   "id": "f67b12f0",
   "metadata": {},
   "outputs": [
    {
     "name": "stdout",
     "output_type": "stream",
     "text": [
      "     Unnamed: 0   age anaemia  creatinine_phosphokinase diabetes  \\\n",
      "0             0  75.0      No                       582       No   \n",
      "1             1  55.0      No                      7861       No   \n",
      "2             2  65.0      No                       146       No   \n",
      "3             3  50.0     Yes                       111       No   \n",
      "4             4  65.0     Yes                       160      Yes   \n",
      "..          ...   ...     ...                       ...      ...   \n",
      "294         294  62.0      No                        61      Yes   \n",
      "295         295  55.0      No                      1820       No   \n",
      "296         296  45.0      No                      2060      Yes   \n",
      "297         297  45.0      No                      2413       No   \n",
      "298         298  50.0      No                       196       No   \n",
      "\n",
      "     ejection_fraction high_blood_pressure  platelets  serum_creatinine  \\\n",
      "0                   20                 Yes  265000.00               1.9   \n",
      "1                   38                  No  263358.03               1.1   \n",
      "2                   20                  No  162000.00               1.3   \n",
      "3                   20                  No  210000.00               1.9   \n",
      "4                   20                  No  327000.00               2.7   \n",
      "..                 ...                 ...        ...               ...   \n",
      "294                 38                 Yes  155000.00               1.1   \n",
      "295                 38                  No  270000.00               1.2   \n",
      "296                 60                  No  742000.00               0.8   \n",
      "297                 38                  No  140000.00               1.4   \n",
      "298                 45                  No  395000.00               1.6   \n",
      "\n",
      "     serum_sodium     sex smoking  time  DEATH_EVENT  \n",
      "0             130    Male      No     4            1  \n",
      "1             136    Male      No     6            1  \n",
      "2             129    Male     Yes     7            1  \n",
      "3             137    Male      No     7            1  \n",
      "4             116  Female      No     8            1  \n",
      "..            ...     ...     ...   ...          ...  \n",
      "294           143    Male     Yes   270            0  \n",
      "295           139  Female      No   271            0  \n",
      "296           138  Female      No   278            0  \n",
      "297           140    Male     Yes   280            0  \n",
      "298           136    Male     Yes   285            0  \n",
      "\n",
      "[299 rows x 14 columns]\n"
     ]
    }
   ],
   "source": [
    "heart_failure=pd.read_csv('C:/Users/admin/OneDrive/Documents/Desktop/heart_failure dataset.csv')\n",
    "print(heart_failure)"
   ]
  },
  {
   "cell_type": "code",
   "execution_count": 20,
   "id": "327af752",
   "metadata": {},
   "outputs": [],
   "source": [
    "#Exporting dataset\n",
    "heart_failure.to_csv('C:/Users/admin/OneDrive/Documents/Desktop/heart_failure dataset.csv')"
   ]
  },
  {
   "cell_type": "code",
   "execution_count": 21,
   "id": "bc301022",
   "metadata": {},
   "outputs": [
    {
     "name": "stdout",
     "output_type": "stream",
     "text": [
      "     Unnamed: 0   age anaemia  creatinine_phosphokinase diabetes  \\\n",
      "0             0  75.0      No                       582       No   \n",
      "1             1  55.0      No                      7861       No   \n",
      "2             2  65.0      No                       146       No   \n",
      "3             3  50.0     Yes                       111       No   \n",
      "4             4  65.0     Yes                       160      Yes   \n",
      "..          ...   ...     ...                       ...      ...   \n",
      "294         294  62.0      No                        61      Yes   \n",
      "295         295  55.0      No                      1820       No   \n",
      "296         296  45.0      No                      2060      Yes   \n",
      "297         297  45.0      No                      2413       No   \n",
      "298         298  50.0      No                       196       No   \n",
      "\n",
      "     ejection_fraction high_blood_pressure  platelets  serum_creatinine  \\\n",
      "0                   20                 Yes  265000.00               1.9   \n",
      "1                   38                  No  263358.03               1.1   \n",
      "2                   20                  No  162000.00               1.3   \n",
      "3                   20                  No  210000.00               1.9   \n",
      "4                   20                  No  327000.00               2.7   \n",
      "..                 ...                 ...        ...               ...   \n",
      "294                 38                 Yes  155000.00               1.1   \n",
      "295                 38                  No  270000.00               1.2   \n",
      "296                 60                  No  742000.00               0.8   \n",
      "297                 38                  No  140000.00               1.4   \n",
      "298                 45                  No  395000.00               1.6   \n",
      "\n",
      "     serum_sodium     sex smoking  time  DEATH_EVENT  \n",
      "0             130    Male      No     4            1  \n",
      "1             136    Male      No     6            1  \n",
      "2             129    Male     Yes     7            1  \n",
      "3             137    Male      No     7            1  \n",
      "4             116  Female      No     8            1  \n",
      "..            ...     ...     ...   ...          ...  \n",
      "294           143    Male     Yes   270            0  \n",
      "295           139  Female      No   271            0  \n",
      "296           138  Female      No   278            0  \n",
      "297           140    Male     Yes   280            0  \n",
      "298           136    Male     Yes   285            0  \n",
      "\n",
      "[299 rows x 14 columns]\n"
     ]
    }
   ],
   "source": [
    "print(heart_failure)"
   ]
  },
  {
   "cell_type": "code",
   "execution_count": null,
   "id": "c0b97460",
   "metadata": {},
   "outputs": [],
   "source": []
  }
 ],
 "metadata": {
  "kernelspec": {
   "display_name": "Python 3",
   "language": "python",
   "name": "python3"
  },
  "language_info": {
   "codemirror_mode": {
    "name": "ipython",
    "version": 3
   },
   "file_extension": ".py",
   "mimetype": "text/x-python",
   "name": "python",
   "nbconvert_exporter": "python",
   "pygments_lexer": "ipython3",
   "version": "3.8.8"
  }
 },
 "nbformat": 4,
 "nbformat_minor": 5
}
